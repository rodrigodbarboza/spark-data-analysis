{
 "cells": [
  {
   "cell_type": "code",
   "execution_count": null,
   "id": "47cab391-6f34-4a71-9e19-0487369a1ec1",
   "metadata": {},
   "outputs": [],
   "source": [
    "# Import necessary libraries\n",
    "import pandas as pd\n",
    "import matplotlib.pyplot as plt\n",
    "\n",
    "# Load the data into a Pandas DataFrame for visualization\n",
    "data = pd.read_csv('../data/sample_data.csv')\n",
    "\n",
    "# Plotting salary distribution\n",
    "plt.figure(figsize=(10, 6))\n",
    "plt.hist(data['salary'], bins=5, color='blue', alpha=0.7)\n",
    "plt.title('Salary Distribution')\n",
    "plt.xlabel('Salary')\n",
    "plt.ylabel('Frequency')\n",
    "plt.show()"
   ]
  }
 ],
 "metadata": {
  "kernelspec": {
   "display_name": "Python 3 (ipykernel)",
   "language": "python",
   "name": "python3"
  },
  "language_info": {
   "codemirror_mode": {
    "name": "ipython",
    "version": 3
   },
   "file_extension": ".py",
   "mimetype": "text/x-python",
   "name": "python",
   "nbconvert_exporter": "python",
   "pygments_lexer": "ipython3",
   "version": "3.12.5"
  }
 },
 "nbformat": 4,
 "nbformat_minor": 5
}
